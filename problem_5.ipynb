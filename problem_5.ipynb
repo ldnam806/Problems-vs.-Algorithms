{
 "cells": [
  {
   "cell_type": "markdown",
   "metadata": {},
   "source": [
    "# Building a Trie in Python\n",
    "\n",
    "Before we start let us reiterate the key components of a Trie or Prefix Tree. A trie is a tree-like data structure that stores a dynamic set of strings. Tries are commonly used to facilitate operations like predictive text or autocomplete features on mobile phones or web search.\n",
    "\n",
    "Before we move into the autocomplete function we need to create a working trie for storing strings.  We will create two classes:\n",
    "* A `Trie` class that contains the root node (empty string)\n",
    "* A `TrieNode` class that exposes the general functionality of the Trie, like inserting a word or finding the node which represents a prefix.\n",
    "\n",
    "Give it a try by implementing the `TrieNode` and `Trie` classes below!"
   ]
  },
  {
   "cell_type": "code",
   "execution_count": null,
   "metadata": {
    "collapsed": true
   },
   "outputs": [],
   "source": [
    "class TrieNode:\n",
    "    def __init__(self):\n",
    "        self.children = defaultdict(TrieNode)\n",
    "        self.is_word = False\n",
    "\n",
    "    def insert(self, char):\n",
    "        return self.children[char]\n",
    "\n",
    "    def suffixes(self, suffix=''):\n",
    "        suffixes_set = set()\n",
    "\n",
    "        if self.is_word and suffix != '':\n",
    "            suffixes_set.add(suffix)\n",
    "\n",
    "        for char, node in self.children.items():\n",
    "            suffixes_set.update(node.suffixes(suffix + char))\n",
    "        \n",
    "        return suffixes_set\n",
    "    \n",
    "class Trie:\n",
    "    def __init__(self):\n",
    "        self.root = TrieNode()\n",
    "\n",
    "    def insert(self, word):\n",
    "        current_node = self.root\n",
    "        for char in word:\n",
    "            current_node = current_node.insert(char)\n",
    "        current_node.is_word = True\n",
    "\n",
    "    def find(self, prefix):\n",
    "        current_node = self.root\n",
    "        for char in prefix:\n",
    "            if char not in current_node.children:\n",
    "                return None\n",
    "            current_node = current_node.children[char]\n",
    "        return current_node"
   ]
  },
  {
   "cell_type": "markdown",
   "metadata": {},
   "source": [
    "# Finding Suffixes\n",
    "\n",
    "Now that we have a functioning Trie, we need to add the ability to list suffixes to implement our autocomplete feature.  To do that, we need to implement a new function on the `TrieNode` object that will return all complete word suffixes that exist below it in the trie.  For example, if our Trie contains the words `[\"fun\", \"function\", \"factory\"]` and we ask for suffixes from the `f` node, we would expect to receive `[\"un\", \"unction\", \"actory\"]` back from `node.suffixes()`.\n",
    "\n",
    "Using the code you wrote for the `TrieNode` above, try to add the suffixes function below. (Hint: recurse down the trie, collecting suffixes as you go.)"
   ]
  },
  {
   "cell_type": "code",
   "execution_count": null,
   "metadata": {
    "collapsed": true
   },
   "outputs": [],
   "source": [
    "from collections import defaultdict\n",
    "\n",
    "class TrieNode:\n",
    "    def __init__(self):\n",
    "        self.children = defaultdict(TrieNode)\n",
    "        self.is_word = False\n",
    "\n",
    "    def insert(self, char):\n",
    "        return self.children[char]\n",
    "\n",
    "    def suffixes(self, suffix=''):\n",
    "        suffixes_set = set()\n",
    "\n",
    "        if self.is_word and suffix != '':\n",
    "            suffixes_set.add(suffix)\n",
    "\n",
    "        for char, node in self.children.items():\n",
    "            suffixes_set.update(node.suffixes(suffix + char))\n",
    "        \n",
    "        return suffixes_set"
   ]
  },
  {
   "cell_type": "markdown",
   "metadata": {},
   "source": [
    "# Testing it all out\n",
    "\n",
    "Run the following code to add some words to your trie and then use the interactive search box to see what your code returns."
   ]
  },
  {
   "cell_type": "code",
   "execution_count": null,
   "metadata": {
    "collapsed": true
   },
   "outputs": [],
   "source": [
    "# Test cases\n",
    "# Create a new trie\n",
    "trie = Trie()\n",
    "\n",
    "# Test Case 1: General Case\n",
    "trie.insert(\"apple\")\n",
    "trie.insert(\"banana\")\n",
    "trie.insert(\"orange\")\n",
    "\n",
    "print(trie.root.suffixes(\"app\"))  # Expected output: {'le'}\n",
    "print(trie.root.suffixes(\"ban\"))  # Expected output: {'ana'}\n",
    "\n",
    "# Test Case 2: Edge Case - Single Word\n",
    "trie.insert(\"hello\")\n",
    "print(trie.root.suffixes(\"hel\"))  # Expected output: {'lo'}\n",
    "\n",
    "# Test Case 3: Edge Case - Empty Input\n",
    "empty_trie = Trie()\n",
    "print(empty_trie.root.suffixes())  # Expected output: set()"
   ]
  },
  {
   "cell_type": "code",
   "execution_count": null,
   "metadata": {
    "collapsed": true
   },
   "outputs": [],
   "source": [
    "# Interactive search\n",
    "from ipywidgets import interact # type: ignore\n",
    "def search(prefix):\n",
    "    if prefix != '':\n",
    "        prefix_node = Trie.find(prefix)\n",
    "        if prefix_node:\n",
    "            print('\\n'.join(prefix_node.suffixes()))\n",
    "        else:\n",
    "            print(prefix + \" not found\")\n",
    "    else:\n",
    "        print('')\n",
    "interact(search, prefix='');"
   ]
  }
 ],
 "metadata": {
  "kernelspec": {
   "display_name": "Python 3",
   "language": "python",
   "name": "python3"
  },
  "language_info": {
   "codemirror_mode": {
    "name": "ipython",
    "version": 3
   },
   "file_extension": ".py",
   "mimetype": "text/x-python",
   "name": "python",
   "nbconvert_exporter": "python",
   "pygments_lexer": "ipython3",
   "version": "3.6.3"
  },
  "widgets": {
   "state": {},
   "version": "1.1.2"
  }
 },
 "nbformat": 4,
 "nbformat_minor": 2
}
